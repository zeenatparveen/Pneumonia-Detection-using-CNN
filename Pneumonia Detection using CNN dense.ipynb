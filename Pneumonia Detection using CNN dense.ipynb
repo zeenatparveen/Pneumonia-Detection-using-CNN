{
 "cells": [
  {
   "cell_type": "code",
   "execution_count": 8,
   "id": "solar-hearts",
   "metadata": {},
   "outputs": [],
   "source": [
    "from keras.layers import Conv2D\n",
    "from keras.layers import MaxPooling2D\n",
    "from keras.layers import Flatten\n",
    "from keras.layers import Dense\n",
    "from keras.preprocessing.image import ImageDataGenerator\n",
    "import numpy as np\n",
    "from keras.preprocessing import image\n",
    "import os\n",
    "import matplotlib.pyplot as plt\n",
    "import cv2"
   ]
  },
  {
   "cell_type": "code",
   "execution_count": 9,
   "id": "bibliographic-employer",
   "metadata": {},
   "outputs": [],
   "source": [
    "img_dims = 64\n",
    "batch_size = 32"
   ]
  },
  {
   "cell_type": "code",
   "execution_count": 10,
   "id": "disturbed-vintage",
   "metadata": {},
   "outputs": [],
   "source": [
    "import tensorflow as tf"
   ]
  },
  {
   "cell_type": "code",
   "execution_count": 11,
   "id": "continental-notice",
   "metadata": {},
   "outputs": [],
   "source": [
    "classifier = tf.keras.Sequential()\n",
    "classifier.add(Conv2D(32, (3, 3), input_shape = (img_dims, img_dims, 3), activation = 'relu'))\n",
    "classifier.add(MaxPooling2D(pool_size = (2, 2)))\n",
    "classifier.add(Flatten())\n",
    "classifier.add(Dense(units = 128, activation = 'relu'))\n",
    "classifier.add(Dense(units = 1, activation = 'sigmoid'))"
   ]
  },
  {
   "cell_type": "code",
   "execution_count": 12,
   "id": "blank-thumbnail",
   "metadata": {},
   "outputs": [
    {
     "name": "stdout",
     "output_type": "stream",
     "text": [
      "Found 5216 images belonging to 2 classes.\n",
      "Found 624 images belonging to 2 classes.\n"
     ]
    }
   ],
   "source": [
    "input_path = 'chest_xray/'\n",
    "train_datagen = ImageDataGenerator(rescale = 1./255,\n",
    "shear_range = 0.2,\n",
    "zoom_range = 0.2,\n",
    "horizontal_flip = True)\n",
    "test_datagen = ImageDataGenerator(rescale = 1./255)\n",
    "training_set = train_datagen.flow_from_directory(directory=input_path+'train',\n",
    "target_size = (img_dims, img_dims),\n",
    "batch_size = batch_size,\n",
    "class_mode = 'binary')\n",
    "test_set = test_datagen.flow_from_directory(directory=input_path+'test',\n",
    "target_size = (img_dims, img_dims),\n",
    "batch_size = batch_size,\n",
    "class_mode = 'binary')"
   ]
  },
  {
   "cell_type": "code",
   "execution_count": 13,
   "id": "current-blame",
   "metadata": {},
   "outputs": [],
   "source": [
    "classifier.compile(optimizer = 'adam', loss = 'binary_crossentropy', metrics = ['accuracy'])"
   ]
  },
  {
   "cell_type": "code",
   "execution_count": 14,
   "id": "fatty-bubble",
   "metadata": {},
   "outputs": [
    {
     "name": "stderr",
     "output_type": "stream",
     "text": [
      "c:\\python\\python38\\lib\\site-packages\\tensorflow\\python\\keras\\engine\\training.py:1844: UserWarning: `Model.fit_generator` is deprecated and will be removed in a future version. Please use `Model.fit`, which supports generators.\n",
      "  warnings.warn('`Model.fit_generator` is deprecated and '\n"
     ]
    },
    {
     "name": "stdout",
     "output_type": "stream",
     "text": [
      "Epoch 1/10\n",
      "163/163 [==============================] - ETA: 0s - loss: 0.8082 - accuracy: 0.7365WARNING:tensorflow:Your input ran out of data; interrupting training. Make sure that your dataset or generator can generate at least `steps_per_epoch * epochs` batches (in this case, 624 batches). You may need to use the repeat() function when building your dataset.\n",
      "163/163 [==============================] - 106s 642ms/step - loss: 0.8061 - accuracy: 0.7370 - val_loss: 0.3065 - val_accuracy: 0.8894\n",
      "Epoch 2/10\n",
      "163/163 [==============================] - 79s 486ms/step - loss: 0.2340 - accuracy: 0.9046\n",
      "Epoch 3/10\n",
      "163/163 [==============================] - 78s 480ms/step - loss: 0.2087 - accuracy: 0.9120\n",
      "Epoch 4/10\n",
      "163/163 [==============================] - 79s 484ms/step - loss: 0.2195 - accuracy: 0.9120\n",
      "Epoch 5/10\n",
      "163/163 [==============================] - 78s 481ms/step - loss: 0.1734 - accuracy: 0.9362\n",
      "Epoch 6/10\n",
      "163/163 [==============================] - 79s 485ms/step - loss: 0.1720 - accuracy: 0.9346\n",
      "Epoch 7/10\n",
      "163/163 [==============================] - 80s 493ms/step - loss: 0.1499 - accuracy: 0.9434\n",
      "Epoch 8/10\n",
      "163/163 [==============================] - 80s 491ms/step - loss: 0.1585 - accuracy: 0.9334\n",
      "Epoch 9/10\n",
      "163/163 [==============================] - 81s 496ms/step - loss: 0.1503 - accuracy: 0.9422\n",
      "Epoch 10/10\n",
      "163/163 [==============================] - 85s 521ms/step - loss: 0.1400 - accuracy: 0.9451\n"
     ]
    }
   ],
   "source": [
    "epochs = 10\n",
    "\n",
    "hist = classifier.fit_generator(\n",
    "           training_set, steps_per_epoch=training_set.samples // batch_size, \n",
    "           epochs=epochs, validation_data=test_set, \n",
    "           validation_steps= test_set.samples)"
   ]
  },
  {
   "cell_type": "code",
   "execution_count": 24,
   "id": "humanitarian-geography",
   "metadata": {},
   "outputs": [
    {
     "name": "stdout",
     "output_type": "stream",
     "text": [
      "Pnuemonia\n"
     ]
    },
    {
     "data": {
      "text/plain": [
       "-1"
      ]
     },
     "execution_count": 24,
     "metadata": {},
     "output_type": "execute_result"
    }
   ],
   "source": [
    "img = plt.imread('chest_xray/val/PNEUMONIA/person1954_bacteria_4886.jpeg')\n",
    "img = cv2.resize(img, (img_dims, img_dims))\n",
    "img = np.dstack([img, img, img])\n",
    "img = img.astype('float32') / 255\n",
    "result = classifier.predict(np.expand_dims(image.img_to_array(img), axis = 0))  \n",
    "\n",
    "if result[0][0] > 0.5:\n",
    "  prediction = 'Pnuemonia'\n",
    "else:\n",
    "  prediction = 'Normal'\n",
    "  \n",
    "print(prediction)\n",
    "img=cv2.resize(img,(780,540))\n",
    "font = cv2.FONT_HERSHEY_SIMPLEX\n",
    "cv2.putText(img,prediction,(10,500), font, 1,(255,255,255),2)\n",
    "cv2.imshow(\"img\",img)\n",
    "cv2.waitKey(0)"
   ]
  },
  {
   "cell_type": "code",
   "execution_count": 30,
   "id": "leading-conspiracy",
   "metadata": {},
   "outputs": [
    {
     "name": "stdout",
     "output_type": "stream",
     "text": [
      "Normal\n"
     ]
    },
    {
     "data": {
      "text/plain": [
       "-1"
      ]
     },
     "execution_count": 30,
     "metadata": {},
     "output_type": "execute_result"
    }
   ],
   "source": [
    "img = plt.imread('chest_xray/test/NORMAL/IM-0019-0001.jpeg')\n",
    "img = cv2.resize(img, (img_dims, img_dims))\n",
    "img = np.dstack([img, img, img])\n",
    "img = img.astype('float32') / 255\n",
    "result = classifier.predict(np.expand_dims(image.img_to_array(img), axis = 0))  \n",
    "\n",
    "if result[0][0] > 0.5:\n",
    "  prediction = 'Pnuemonia'\n",
    "else:\n",
    "  prediction = 'Normal'\n",
    "  \n",
    "print(prediction)\n",
    "img=cv2.resize(img,(780,540))\n",
    "font = cv2.FONT_HERSHEY_SIMPLEX\n",
    "cv2.putText(img,prediction,(10,500), font, 1,(255,255,255),2)\n",
    "cv2.imshow(\"img\",img)\n",
    "cv2.waitKey(0)"
   ]
  },
  {
   "cell_type": "code",
   "execution_count": 20,
   "id": "homeless-vintage",
   "metadata": {},
   "outputs": [
    {
     "name": "stdout",
     "output_type": "stream",
     "text": [
      "CONFUSION MATRIX ------------------\n",
      "[[132 102]\n",
      " [  3 387]]\n",
      "\n",
      "TEST METRICS ----------------------\n",
      "Accuracy: 83.17307692307693%\n",
      "Precision: 79.14110429447852%\n",
      "Recall: 99.23076923076923%\n",
      "F1-score: 88.05460750853243\n",
      "\n",
      "TRAIN METRIC ----------------------\n",
      "Train acc: 94.88\n"
     ]
    }
   ],
   "source": [
    "test_data = []\n",
    "test_labels = []\n",
    "import os\n",
    "import matplotlib.pyplot as plt\n",
    "import cv2\n",
    "import numpy as np\n",
    "img_dims = 64\n",
    "input_path = 'chest_xray/'\n",
    "for cond in ['/NORMAL/', '/PNEUMONIA/']:\n",
    "        for img in (os.listdir(input_path + 'test' + cond)):\n",
    "            img = plt.imread(input_path+'test'+cond+img)\n",
    "            img = cv2.resize(img, (img_dims, img_dims))\n",
    "            img = np.dstack([img, img, img])\n",
    "            img = img.astype('float32') / 255\n",
    "            if cond=='/NORMAL/':\n",
    "                label = 0\n",
    "            elif cond=='/PNEUMONIA/':\n",
    "                label = 1\n",
    "            test_data.append(img)\n",
    "            test_labels.append(label)\n",
    "        \n",
    "test_data = np.array(test_data)\n",
    "test_labels = np.array(test_labels)\n",
    "from sklearn.metrics import accuracy_score, confusion_matrix\n",
    "\n",
    "preds = classifier.predict(test_data)\n",
    "\n",
    "acc = accuracy_score(test_labels, np.round(preds))*100\n",
    "cm = confusion_matrix(test_labels, np.round(preds))\n",
    "tn, fp, fn, tp = cm.ravel()\n",
    "\n",
    "print('CONFUSION MATRIX ------------------')\n",
    "print(cm)\n",
    "print('\\nTEST METRICS ----------------------')\n",
    "precision = tp/(tp+fp)*100\n",
    "recall = tp/(tp+fn)*100\n",
    "print('Accuracy: {}%'.format(acc))\n",
    "print('Precision: {}%'.format(precision))\n",
    "print('Recall: {}%'.format(recall))\n",
    "print('F1-score: {}'.format(2*precision*recall/(precision+recall)))\n",
    "\n",
    "print('\\nTRAIN METRIC ----------------------')\n",
    "print('Train acc: {}'.format(np.round((hist.history['accuracy'][-1])*100, 2)))"
   ]
  },
  {
   "cell_type": "code",
   "execution_count": null,
   "id": "composite-dinner",
   "metadata": {},
   "outputs": [],
   "source": []
  }
 ],
 "metadata": {
  "kernelspec": {
   "display_name": "Python 3",
   "language": "python",
   "name": "python3"
  },
  "language_info": {
   "codemirror_mode": {
    "name": "ipython",
    "version": 3
   },
   "file_extension": ".py",
   "mimetype": "text/x-python",
   "name": "python",
   "nbconvert_exporter": "python",
   "pygments_lexer": "ipython3",
   "version": "3.8.3"
  }
 },
 "nbformat": 4,
 "nbformat_minor": 5
}
