{
 "cells": [
  {
   "cell_type": "code",
   "execution_count": 2,
   "id": "chief-jefferson",
   "metadata": {},
   "outputs": [],
   "source": [
    "from keras.layers import Conv2D\n",
    "from keras.layers import MaxPooling2D\n",
    "from keras.layers import Flatten\n",
    "from keras.layers import Dense\n",
    "from keras.preprocessing.image import ImageDataGenerator\n",
    "import numpy as np\n",
    "from keras.preprocessing import image\n",
    "import os\n",
    "import matplotlib.pyplot as plt\n",
    "import cv2"
   ]
  },
  {
   "cell_type": "code",
   "execution_count": 3,
   "id": "premier-victor",
   "metadata": {},
   "outputs": [],
   "source": [
    "img_dims = 64\n",
    "batch_size = 32\n"
   ]
  },
  {
   "cell_type": "code",
   "execution_count": 5,
   "id": "cheap-crossing",
   "metadata": {},
   "outputs": [],
   "source": [
    "import tensorflow as tf"
   ]
  },
  {
   "cell_type": "code",
   "execution_count": 6,
   "id": "falling-provincial",
   "metadata": {},
   "outputs": [],
   "source": [
    "classifier = tf.keras.Sequential()\n",
    "classifier.add(Conv2D(32, (3, 3), input_shape = (img_dims, img_dims, 3), activation = 'relu'))\n",
    "classifier.add(MaxPooling2D(pool_size = (2, 2)))\n",
    "classifier.add(Flatten())\n",
    "classifier.add(Dense(units = 128, activation = 'relu'))\n",
    "classifier.add(Dense(units = 1, activation = 'sigmoid'))\n"
   ]
  },
  {
   "cell_type": "code",
   "execution_count": 7,
   "id": "alert-marker",
   "metadata": {},
   "outputs": [
    {
     "name": "stdout",
     "output_type": "stream",
     "text": [
      "Found 5216 images belonging to 2 classes.\n",
      "Found 624 images belonging to 2 classes.\n"
     ]
    }
   ],
   "source": [
    "input_path = 'chest_xray/'\n",
    "train_datagen = ImageDataGenerator(rescale = 1./255,\n",
    "shear_range = 0.2,\n",
    "zoom_range = 0.2,\n",
    "horizontal_flip = True)\n",
    "test_datagen = ImageDataGenerator(rescale = 1./255)\n",
    "training_set = train_datagen.flow_from_directory(directory=input_path+'train',\n",
    "target_size = (img_dims, img_dims),\n",
    "batch_size = batch_size,\n",
    "class_mode = 'binary')\n",
    "test_set = test_datagen.flow_from_directory(directory=input_path+'test',\n",
    "target_size = (img_dims, img_dims),\n",
    "batch_size = batch_size,\n",
    "class_mode = 'binary')\n"
   ]
  },
  {
   "cell_type": "code",
   "execution_count": 8,
   "id": "sacred-senator",
   "metadata": {},
   "outputs": [],
   "source": [
    "classifier.compile(optimizer = 'adam', loss = 'binary_crossentropy', metrics = ['accuracy'])\n"
   ]
  },
  {
   "cell_type": "code",
   "execution_count": 9,
   "id": "duplicate-latter",
   "metadata": {},
   "outputs": [
    {
     "name": "stderr",
     "output_type": "stream",
     "text": [
      "c:\\python\\python38\\lib\\site-packages\\tensorflow\\python\\keras\\engine\\training.py:1844: UserWarning: `Model.fit_generator` is deprecated and will be removed in a future version. Please use `Model.fit`, which supports generators.\n",
      "  warnings.warn('`Model.fit_generator` is deprecated and '\n"
     ]
    },
    {
     "name": "stdout",
     "output_type": "stream",
     "text": [
      "Epoch 1/10\n",
      "163/163 [==============================] - ETA: 0s - loss: 0.6998 - accuracy: 0.7441WARNING:tensorflow:Your input ran out of data; interrupting training. Make sure that your dataset or generator can generate at least `steps_per_epoch * epochs` batches (in this case, 624 batches). You may need to use the repeat() function when building your dataset.\n",
      "163/163 [==============================] - 359s 2s/step - loss: 0.6982 - accuracy: 0.7445 - val_loss: 0.4325 - val_accuracy: 0.7869\n",
      "Epoch 2/10\n",
      "163/163 [==============================] - 127s 782ms/step - loss: 0.2550 - accuracy: 0.8924\n",
      "Epoch 3/10\n",
      "163/163 [==============================] - 126s 773ms/step - loss: 0.2334 - accuracy: 0.9011\n",
      "Epoch 4/10\n",
      "163/163 [==============================] - 126s 771ms/step - loss: 0.1818 - accuracy: 0.9220\n",
      "Epoch 5/10\n",
      "163/163 [==============================] - 126s 771ms/step - loss: 0.1816 - accuracy: 0.9253\n",
      "Epoch 6/10\n",
      "163/163 [==============================] - 128s 785ms/step - loss: 0.1792 - accuracy: 0.9317\n",
      "Epoch 7/10\n",
      "163/163 [==============================] - 130s 795ms/step - loss: 0.1564 - accuracy: 0.9420\n",
      "Epoch 8/10\n",
      "163/163 [==============================] - 129s 791ms/step - loss: 0.1660 - accuracy: 0.9331\n",
      "Epoch 9/10\n",
      "163/163 [==============================] - 133s 812ms/step - loss: 0.1775 - accuracy: 0.9287\n",
      "Epoch 10/10\n",
      "163/163 [==============================] - 134s 820ms/step - loss: 0.1476 - accuracy: 0.9440\n"
     ]
    }
   ],
   "source": [
    "epochs = 10\n",
    "\n",
    "hist = classifier.fit_generator(\n",
    "           training_set, steps_per_epoch=training_set.samples // batch_size, \n",
    "           epochs=epochs, validation_data=test_set, \n",
    "           validation_steps= test_set.samples)\n"
   ]
  },
  {
   "cell_type": "code",
   "execution_count": 10,
   "id": "renewable-value",
   "metadata": {},
   "outputs": [
    {
     "name": "stdout",
     "output_type": "stream",
     "text": [
      "Pnuemonia\n"
     ]
    }
   ],
   "source": [
    "img = plt.imread('chest_xray/val/PNEUMONIA/person1954_bacteria_4886.jpeg')\n",
    "img = cv2.resize(img, (img_dims, img_dims))\n",
    "img = np.dstack([img, img, img])\n",
    "img = img.astype('float32') / 255\n",
    "result = classifier.predict(np.expand_dims(image.img_to_array(img), axis = 0))  \n",
    "\n",
    "if result[0][0] > 0.5:\n",
    "  prediction = 'Pnuemonia'\n",
    "else:\n",
    "  prediction = 'Normal'\n",
    "  \n",
    "print(prediction)"
   ]
  },
  {
   "cell_type": "code",
   "execution_count": 11,
   "id": "incorporate-residence",
   "metadata": {},
   "outputs": [
    {
     "name": "stdout",
     "output_type": "stream",
     "text": [
      "Normal\n"
     ]
    }
   ],
   "source": [
    "img = plt.imread('chest_xray/val/NORMAL/NORMAL2-IM-1427-0001.jpeg')\n",
    "img = cv2.resize(img, (img_dims, img_dims))\n",
    "img = np.dstack([img, img, img])\n",
    "img = img.astype('float32') / 255\n",
    "result = classifier.predict(np.expand_dims(image.img_to_array(img), axis = 0))  \n",
    "\n",
    "if result[0][0] > 0.5:\n",
    "  prediction = 'Pnuemonia'\n",
    "else:\n",
    "  prediction = 'Normal'\n",
    "  \n",
    "print(prediction)"
   ]
  },
  {
   "cell_type": "code",
   "execution_count": 3,
   "id": "alone-retention",
   "metadata": {},
   "outputs": [
    {
     "ename": "NameError",
     "evalue": "name 'listdir' is not defined",
     "output_type": "error",
     "traceback": [
      "\u001b[1;31m---------------------------------------------------------------------------\u001b[0m",
      "\u001b[1;31mNameError\u001b[0m                                 Traceback (most recent call last)",
      "\u001b[1;32m<ipython-input-3-4a89cfae2265>\u001b[0m in \u001b[0;36m<module>\u001b[1;34m\u001b[0m\n\u001b[0;32m      2\u001b[0m \u001b[0mtest_labels\u001b[0m \u001b[1;33m=\u001b[0m \u001b[1;33m[\u001b[0m\u001b[1;33m]\u001b[0m\u001b[1;33m\u001b[0m\u001b[1;33m\u001b[0m\u001b[0m\n\u001b[0;32m      3\u001b[0m \u001b[1;32mfor\u001b[0m \u001b[0mcond\u001b[0m \u001b[1;32min\u001b[0m \u001b[1;33m[\u001b[0m\u001b[1;34m'/NORMAL/'\u001b[0m\u001b[1;33m,\u001b[0m \u001b[1;34m'/PNEUMONIA/'\u001b[0m\u001b[1;33m]\u001b[0m\u001b[1;33m:\u001b[0m\u001b[1;33m\u001b[0m\u001b[1;33m\u001b[0m\u001b[0m\n\u001b[1;32m----> 4\u001b[1;33m         \u001b[1;32mfor\u001b[0m \u001b[0mimg\u001b[0m \u001b[1;32min\u001b[0m \u001b[1;33m(\u001b[0m\u001b[0mlistdir\u001b[0m\u001b[1;33m(\u001b[0m\u001b[0minput_path\u001b[0m \u001b[1;33m+\u001b[0m \u001b[1;34m'test'\u001b[0m \u001b[1;33m+\u001b[0m \u001b[0mcond\u001b[0m\u001b[1;33m)\u001b[0m\u001b[1;33m)\u001b[0m\u001b[1;33m:\u001b[0m\u001b[1;33m\u001b[0m\u001b[1;33m\u001b[0m\u001b[0m\n\u001b[0m\u001b[0;32m      5\u001b[0m             \u001b[0mimg\u001b[0m \u001b[1;33m=\u001b[0m \u001b[0mplt\u001b[0m\u001b[1;33m.\u001b[0m\u001b[0mimread\u001b[0m\u001b[1;33m(\u001b[0m\u001b[0minput_path\u001b[0m\u001b[1;33m+\u001b[0m\u001b[1;34m'test'\u001b[0m\u001b[1;33m+\u001b[0m\u001b[0mcond\u001b[0m\u001b[1;33m+\u001b[0m\u001b[0mimg\u001b[0m\u001b[1;33m)\u001b[0m\u001b[1;33m\u001b[0m\u001b[1;33m\u001b[0m\u001b[0m\n\u001b[0;32m      6\u001b[0m             \u001b[0mimg\u001b[0m \u001b[1;33m=\u001b[0m \u001b[0mcv2\u001b[0m\u001b[1;33m.\u001b[0m\u001b[0mresize\u001b[0m\u001b[1;33m(\u001b[0m\u001b[0mimg\u001b[0m\u001b[1;33m,\u001b[0m \u001b[1;33m(\u001b[0m\u001b[0mimg_dims\u001b[0m\u001b[1;33m,\u001b[0m \u001b[0mimg_dims\u001b[0m\u001b[1;33m)\u001b[0m\u001b[1;33m)\u001b[0m\u001b[1;33m\u001b[0m\u001b[1;33m\u001b[0m\u001b[0m\n",
      "\u001b[1;31mNameError\u001b[0m: name 'listdir' is not defined"
     ]
    }
   ],
   "source": [
    "test_data = []\n",
    "test_labels = []\n",
    "for cond in ['/NORMAL/', '/PNEUMONIA/']:\n",
    "        for img in (listdir(input_path + 'test' + cond)):\n",
    "            img = plt.imread(input_path+'test'+cond+img)\n",
    "            img = cv2.resize(img, (img_dims, img_dims))\n",
    "            img = np.dstack([img, img, img])\n",
    "            img = img.astype('float32') / 255\n",
    "            if cond=='/NORMAL/':\n",
    "                label = 0\n",
    "            elif cond=='/PNEUMONIA/':\n",
    "                label = 1\n",
    "            test_data.append(img)\n",
    "            test_labels.append(label)\n",
    "        \n",
    "test_data = np.array(test_data)\n",
    "test_labels = np.array(test_labels)\n",
    "from sklearn.metrics import accuracy_score, confusion_matrix\n",
    "\n",
    "preds = classifier.predict(test_data)\n",
    "\n",
    "acc = accuracy_score(test_labels, np.round(preds))*100\n",
    "cm = confusion_matrix(test_labels, np.round(preds))\n",
    "tn, fp, fn, tp = cm.ravel()\n",
    "\n",
    "print('CONFUSION MATRIX ------------------')\n",
    "print(cm)\n",
    "print('\\nTEST METRICS ----------------------')\n",
    "precision = tp/(tp+fp)*100\n",
    "recall = tp/(tp+fn)*100\n",
    "print('Accuracy: {}%'.format(acc))\n",
    "print('Precision: {}%'.format(precision))\n",
    "print('Recall: {}%'.format(recall))\n",
    "print('F1-score: {}'.format(2*precision*recall/(precision+recall)))\n",
    "\n",
    "print('\\nTRAIN METRIC ----------------------')\n",
    "print('Train acc: {}'.format(np.round((hist.history['acc'][-1])*100, 2)))\n"
   ]
  },
  {
   "cell_type": "code",
   "execution_count": null,
   "id": "threaded-navigator",
   "metadata": {},
   "outputs": [],
   "source": []
  }
 ],
 "metadata": {
  "kernelspec": {
   "display_name": "Python 3",
   "language": "python",
   "name": "python3"
  },
  "language_info": {
   "codemirror_mode": {
    "name": "ipython",
    "version": 3
   },
   "file_extension": ".py",
   "mimetype": "text/x-python",
   "name": "python",
   "nbconvert_exporter": "python",
   "pygments_lexer": "ipython3",
   "version": "3.8.3"
  }
 },
 "nbformat": 4,
 "nbformat_minor": 5
}
